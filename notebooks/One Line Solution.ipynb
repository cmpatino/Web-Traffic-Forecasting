{
 "cells": [
  {
   "cell_type": "markdown",
   "metadata": {},
   "source": [
    "# Decoding the One Line Solution\n",
    "\n",
    "This notebook decomposes step by step the [One Line Solution](https://www.kaggle.com/paulorzp/one-line-solution-2nd-stage-final) solution.\n",
    "\n",
    "```python\n",
    "import pandas as pd; pd.read_csv(\"../input/key_2.csv\",converters={'Page':lambda p:p[:-11]}, index_col='Page').join(pd.read_csv(\"../input/train_2.csv\", usecols=[0]+list(range(755,803)), index_col='Page').median(axis=1,skipna=True).to_frame(name='Visits'), how='left').fillna(0).to_csv('sub.csv', float_format='%.0f', index=False)\n",
    "```\n",
    "\n",
    "## Results:\n",
    "+ Window of 48 using mean: 47.38643\n",
    "+ Window of 48 using median: 41.94324"
   ]
  },
  {
   "cell_type": "code",
   "execution_count": 1,
   "metadata": {},
   "outputs": [],
   "source": [
    "import pandas as pd\n",
    "DATA_PATH = \"../data/input/\""
   ]
  },
  {
   "cell_type": "markdown",
   "metadata": {},
   "source": [
    "## Getting IDs for Submission\n",
    "\n",
    "The first step of the process is to import the keys and remove the date from the page name. This is done for extracting the IDs for the submission file."
   ]
  },
  {
   "cell_type": "code",
   "execution_count": 2,
   "metadata": {},
   "outputs": [
    {
     "data": {
      "text/html": [
       "<div>\n",
       "<style scoped>\n",
       "    .dataframe tbody tr th:only-of-type {\n",
       "        vertical-align: middle;\n",
       "    }\n",
       "\n",
       "    .dataframe tbody tr th {\n",
       "        vertical-align: top;\n",
       "    }\n",
       "\n",
       "    .dataframe thead th {\n",
       "        text-align: right;\n",
       "    }\n",
       "</style>\n",
       "<table border=\"1\" class=\"dataframe\">\n",
       "  <thead>\n",
       "    <tr style=\"text-align: right;\">\n",
       "      <th></th>\n",
       "      <th>Id</th>\n",
       "    </tr>\n",
       "    <tr>\n",
       "      <th>Page</th>\n",
       "      <th></th>\n",
       "    </tr>\n",
       "  </thead>\n",
       "  <tbody>\n",
       "    <tr>\n",
       "      <th>007_スペクター_ja.wikipedia.org_all-access_all-agents</th>\n",
       "      <td>0b293039387a</td>\n",
       "    </tr>\n",
       "    <tr>\n",
       "      <th>007_スペクター_ja.wikipedia.org_all-access_all-agents</th>\n",
       "      <td>7114389dd824</td>\n",
       "    </tr>\n",
       "    <tr>\n",
       "      <th>007_スペクター_ja.wikipedia.org_all-access_all-agents</th>\n",
       "      <td>057b02ff1f09</td>\n",
       "    </tr>\n",
       "    <tr>\n",
       "      <th>007_スペクター_ja.wikipedia.org_all-access_all-agents</th>\n",
       "      <td>bd2aca21caa3</td>\n",
       "    </tr>\n",
       "    <tr>\n",
       "      <th>007_スペクター_ja.wikipedia.org_all-access_all-agents</th>\n",
       "      <td>c0effb42cdd5</td>\n",
       "    </tr>\n",
       "  </tbody>\n",
       "</table>\n",
       "</div>"
      ],
      "text/plain": [
       "                                                            Id\n",
       "Page                                                          \n",
       "007_スペクター_ja.wikipedia.org_all-access_all-agents  0b293039387a\n",
       "007_スペクター_ja.wikipedia.org_all-access_all-agents  7114389dd824\n",
       "007_スペクター_ja.wikipedia.org_all-access_all-agents  057b02ff1f09\n",
       "007_スペクター_ja.wikipedia.org_all-access_all-agents  bd2aca21caa3\n",
       "007_スペクター_ja.wikipedia.org_all-access_all-agents  c0effb42cdd5"
      ]
     },
     "execution_count": 2,
     "metadata": {},
     "output_type": "execute_result"
    }
   ],
   "source": [
    "keys_df = pd.read_csv(DATA_PATH + \"key_2.csv\", converters={'Page':lambda p:p[:-11]}, index_col='Page')\n",
    "keys_df.head()"
   ]
  },
  {
   "cell_type": "markdown",
   "metadata": {},
   "source": [
    "## Calculate Median Value\n",
    "\n",
    "The next step is to calculate the median of the last 48 days. \n",
    "To calculate the median we must first define the window we are going to use. The Kaggle solution uses the last 48 days to calculate the median and make the prediction. Since the columns of `train_df` are the days, the last 48 days are retrieved from the last 48 column of the dataframe. This is done using the `usecols` parameter. Once we have the last 48 days we calculate the median value of the days in that window."
   ]
  },
  {
   "cell_type": "code",
   "execution_count": 3,
   "metadata": {},
   "outputs": [
    {
     "name": "stderr",
     "output_type": "stream",
     "text": [
      "/home/carlosmiguelpatino/Software/miniconda3/envs/timeseries/lib/python3.7/site-packages/numpy/lib/function_base.py:3405: RuntimeWarning: All-NaN slice encountered\n",
      "  r = func(a, **kwargs)\n"
     ]
    }
   ],
   "source": [
    "train_df = pd.read_csv(DATA_PATH + \"train_2.csv\", usecols=[0]+list(range(755,803)), index_col='Page')\n",
    "median_df = train_df.median(axis=1, skipna=True).to_frame('Visits')\n",
    "mean_df = train_df.mean(axis=1, skipna=True).to_frame('Visits')"
   ]
  },
  {
   "cell_type": "code",
   "execution_count": 4,
   "metadata": {},
   "outputs": [
    {
     "data": {
      "text/html": [
       "<div>\n",
       "<style scoped>\n",
       "    .dataframe tbody tr th:only-of-type {\n",
       "        vertical-align: middle;\n",
       "    }\n",
       "\n",
       "    .dataframe tbody tr th {\n",
       "        vertical-align: top;\n",
       "    }\n",
       "\n",
       "    .dataframe thead th {\n",
       "        text-align: right;\n",
       "    }\n",
       "</style>\n",
       "<table border=\"1\" class=\"dataframe\">\n",
       "  <thead>\n",
       "    <tr style=\"text-align: right;\">\n",
       "      <th></th>\n",
       "      <th>Visits</th>\n",
       "    </tr>\n",
       "    <tr>\n",
       "      <th>Page</th>\n",
       "      <th></th>\n",
       "    </tr>\n",
       "  </thead>\n",
       "  <tbody>\n",
       "    <tr>\n",
       "      <th>2NE1_zh.wikipedia.org_all-access_spider</th>\n",
       "      <td>22.5</td>\n",
       "    </tr>\n",
       "    <tr>\n",
       "      <th>2PM_zh.wikipedia.org_all-access_spider</th>\n",
       "      <td>20.0</td>\n",
       "    </tr>\n",
       "    <tr>\n",
       "      <th>3C_zh.wikipedia.org_all-access_spider</th>\n",
       "      <td>4.5</td>\n",
       "    </tr>\n",
       "    <tr>\n",
       "      <th>4minute_zh.wikipedia.org_all-access_spider</th>\n",
       "      <td>15.0</td>\n",
       "    </tr>\n",
       "    <tr>\n",
       "      <th>52_Hz_I_Love_You_zh.wikipedia.org_all-access_spider</th>\n",
       "      <td>19.0</td>\n",
       "    </tr>\n",
       "  </tbody>\n",
       "</table>\n",
       "</div>"
      ],
      "text/plain": [
       "                                                    Visits\n",
       "Page                                                      \n",
       "2NE1_zh.wikipedia.org_all-access_spider               22.5\n",
       "2PM_zh.wikipedia.org_all-access_spider                20.0\n",
       "3C_zh.wikipedia.org_all-access_spider                  4.5\n",
       "4minute_zh.wikipedia.org_all-access_spider            15.0\n",
       "52_Hz_I_Love_You_zh.wikipedia.org_all-access_sp...    19.0"
      ]
     },
     "execution_count": 4,
     "metadata": {},
     "output_type": "execute_result"
    }
   ],
   "source": [
    "median_df.head()"
   ]
  },
  {
   "cell_type": "code",
   "execution_count": 5,
   "metadata": {},
   "outputs": [
    {
     "data": {
      "text/html": [
       "<div>\n",
       "<style scoped>\n",
       "    .dataframe tbody tr th:only-of-type {\n",
       "        vertical-align: middle;\n",
       "    }\n",
       "\n",
       "    .dataframe tbody tr th {\n",
       "        vertical-align: top;\n",
       "    }\n",
       "\n",
       "    .dataframe thead th {\n",
       "        text-align: right;\n",
       "    }\n",
       "</style>\n",
       "<table border=\"1\" class=\"dataframe\">\n",
       "  <thead>\n",
       "    <tr style=\"text-align: right;\">\n",
       "      <th></th>\n",
       "      <th>Visits</th>\n",
       "    </tr>\n",
       "    <tr>\n",
       "      <th>Page</th>\n",
       "      <th></th>\n",
       "    </tr>\n",
       "  </thead>\n",
       "  <tbody>\n",
       "    <tr>\n",
       "      <th>2NE1_zh.wikipedia.org_all-access_spider</th>\n",
       "      <td>26.395833</td>\n",
       "    </tr>\n",
       "    <tr>\n",
       "      <th>2PM_zh.wikipedia.org_all-access_spider</th>\n",
       "      <td>22.791667</td>\n",
       "    </tr>\n",
       "    <tr>\n",
       "      <th>3C_zh.wikipedia.org_all-access_spider</th>\n",
       "      <td>5.979167</td>\n",
       "    </tr>\n",
       "    <tr>\n",
       "      <th>4minute_zh.wikipedia.org_all-access_spider</th>\n",
       "      <td>18.375000</td>\n",
       "    </tr>\n",
       "    <tr>\n",
       "      <th>52_Hz_I_Love_You_zh.wikipedia.org_all-access_spider</th>\n",
       "      <td>23.104167</td>\n",
       "    </tr>\n",
       "  </tbody>\n",
       "</table>\n",
       "</div>"
      ],
      "text/plain": [
       "                                                       Visits\n",
       "Page                                                         \n",
       "2NE1_zh.wikipedia.org_all-access_spider             26.395833\n",
       "2PM_zh.wikipedia.org_all-access_spider              22.791667\n",
       "3C_zh.wikipedia.org_all-access_spider                5.979167\n",
       "4minute_zh.wikipedia.org_all-access_spider          18.375000\n",
       "52_Hz_I_Love_You_zh.wikipedia.org_all-access_sp...  23.104167"
      ]
     },
     "execution_count": 5,
     "metadata": {},
     "output_type": "execute_result"
    }
   ],
   "source": [
    "mean_df.head()"
   ]
  },
  {
   "cell_type": "markdown",
   "metadata": {},
   "source": [
    "## Join IDs and Predictions\n",
    "\n",
    "Join the predicted value with the IDs."
   ]
  },
  {
   "cell_type": "code",
   "execution_count": 6,
   "metadata": {},
   "outputs": [
    {
     "data": {
      "text/html": [
       "<div>\n",
       "<style scoped>\n",
       "    .dataframe tbody tr th:only-of-type {\n",
       "        vertical-align: middle;\n",
       "    }\n",
       "\n",
       "    .dataframe tbody tr th {\n",
       "        vertical-align: top;\n",
       "    }\n",
       "\n",
       "    .dataframe thead th {\n",
       "        text-align: right;\n",
       "    }\n",
       "</style>\n",
       "<table border=\"1\" class=\"dataframe\">\n",
       "  <thead>\n",
       "    <tr style=\"text-align: right;\">\n",
       "      <th></th>\n",
       "      <th>Id</th>\n",
       "      <th>Visits</th>\n",
       "    </tr>\n",
       "    <tr>\n",
       "      <th>Page</th>\n",
       "      <th></th>\n",
       "      <th></th>\n",
       "    </tr>\n",
       "  </thead>\n",
       "  <tbody>\n",
       "    <tr>\n",
       "      <th>!vote_en.wikipedia.org_all-access_all-agents</th>\n",
       "      <td>fcc80b534ec3</td>\n",
       "      <td>11.0</td>\n",
       "    </tr>\n",
       "    <tr>\n",
       "      <th>!vote_en.wikipedia.org_all-access_all-agents</th>\n",
       "      <td>cb546ce1d7f1</td>\n",
       "      <td>11.0</td>\n",
       "    </tr>\n",
       "    <tr>\n",
       "      <th>!vote_en.wikipedia.org_all-access_all-agents</th>\n",
       "      <td>df76aa5db9b3</td>\n",
       "      <td>11.0</td>\n",
       "    </tr>\n",
       "    <tr>\n",
       "      <th>!vote_en.wikipedia.org_all-access_all-agents</th>\n",
       "      <td>d7a6e8477c1f</td>\n",
       "      <td>11.0</td>\n",
       "    </tr>\n",
       "    <tr>\n",
       "      <th>!vote_en.wikipedia.org_all-access_all-agents</th>\n",
       "      <td>f3dc8ae4c23a</td>\n",
       "      <td>11.0</td>\n",
       "    </tr>\n",
       "  </tbody>\n",
       "</table>\n",
       "</div>"
      ],
      "text/plain": [
       "                                                        Id  Visits\n",
       "Page                                                              \n",
       "!vote_en.wikipedia.org_all-access_all-agents  fcc80b534ec3    11.0\n",
       "!vote_en.wikipedia.org_all-access_all-agents  cb546ce1d7f1    11.0\n",
       "!vote_en.wikipedia.org_all-access_all-agents  df76aa5db9b3    11.0\n",
       "!vote_en.wikipedia.org_all-access_all-agents  d7a6e8477c1f    11.0\n",
       "!vote_en.wikipedia.org_all-access_all-agents  f3dc8ae4c23a    11.0"
      ]
     },
     "execution_count": 6,
     "metadata": {},
     "output_type": "execute_result"
    }
   ],
   "source": [
    "joined_median = keys_df.join(median_df, how='left').fillna(0)\n",
    "joined_median.head()"
   ]
  },
  {
   "cell_type": "code",
   "execution_count": 7,
   "metadata": {},
   "outputs": [
    {
     "data": {
      "text/html": [
       "<div>\n",
       "<style scoped>\n",
       "    .dataframe tbody tr th:only-of-type {\n",
       "        vertical-align: middle;\n",
       "    }\n",
       "\n",
       "    .dataframe tbody tr th {\n",
       "        vertical-align: top;\n",
       "    }\n",
       "\n",
       "    .dataframe thead th {\n",
       "        text-align: right;\n",
       "    }\n",
       "</style>\n",
       "<table border=\"1\" class=\"dataframe\">\n",
       "  <thead>\n",
       "    <tr style=\"text-align: right;\">\n",
       "      <th></th>\n",
       "      <th>Id</th>\n",
       "      <th>Visits</th>\n",
       "    </tr>\n",
       "    <tr>\n",
       "      <th>Page</th>\n",
       "      <th></th>\n",
       "      <th></th>\n",
       "    </tr>\n",
       "  </thead>\n",
       "  <tbody>\n",
       "    <tr>\n",
       "      <th>!vote_en.wikipedia.org_all-access_all-agents</th>\n",
       "      <td>fcc80b534ec3</td>\n",
       "      <td>11.75</td>\n",
       "    </tr>\n",
       "    <tr>\n",
       "      <th>!vote_en.wikipedia.org_all-access_all-agents</th>\n",
       "      <td>cb546ce1d7f1</td>\n",
       "      <td>11.75</td>\n",
       "    </tr>\n",
       "    <tr>\n",
       "      <th>!vote_en.wikipedia.org_all-access_all-agents</th>\n",
       "      <td>df76aa5db9b3</td>\n",
       "      <td>11.75</td>\n",
       "    </tr>\n",
       "    <tr>\n",
       "      <th>!vote_en.wikipedia.org_all-access_all-agents</th>\n",
       "      <td>d7a6e8477c1f</td>\n",
       "      <td>11.75</td>\n",
       "    </tr>\n",
       "    <tr>\n",
       "      <th>!vote_en.wikipedia.org_all-access_all-agents</th>\n",
       "      <td>f3dc8ae4c23a</td>\n",
       "      <td>11.75</td>\n",
       "    </tr>\n",
       "  </tbody>\n",
       "</table>\n",
       "</div>"
      ],
      "text/plain": [
       "                                                        Id  Visits\n",
       "Page                                                              \n",
       "!vote_en.wikipedia.org_all-access_all-agents  fcc80b534ec3   11.75\n",
       "!vote_en.wikipedia.org_all-access_all-agents  cb546ce1d7f1   11.75\n",
       "!vote_en.wikipedia.org_all-access_all-agents  df76aa5db9b3   11.75\n",
       "!vote_en.wikipedia.org_all-access_all-agents  d7a6e8477c1f   11.75\n",
       "!vote_en.wikipedia.org_all-access_all-agents  f3dc8ae4c23a   11.75"
      ]
     },
     "execution_count": 7,
     "metadata": {},
     "output_type": "execute_result"
    }
   ],
   "source": [
    "joined_mean = keys_df.join(mean_df, how='left').fillna(0)\n",
    "joined_mean.head()"
   ]
  },
  {
   "cell_type": "markdown",
   "metadata": {},
   "source": [
    "## Make Submission File"
   ]
  },
  {
   "cell_type": "code",
   "execution_count": 8,
   "metadata": {},
   "outputs": [],
   "source": [
    "joined_median.to_csv('../submissions/median_oneliner.csv', float_format='%.0f', index=False)\n",
    "joined_mean.to_csv('../submissions/mean_oneliner.csv', float_format='%.0f', index=False)"
   ]
  }
 ],
 "metadata": {
  "kernelspec": {
   "display_name": "Python [conda env:timeseries]",
   "language": "python",
   "name": "conda-env-timeseries-py"
  },
  "language_info": {
   "codemirror_mode": {
    "name": "ipython",
    "version": 3
   },
   "file_extension": ".py",
   "mimetype": "text/x-python",
   "name": "python",
   "nbconvert_exporter": "python",
   "pygments_lexer": "ipython3",
   "version": "3.7.3"
  }
 },
 "nbformat": 4,
 "nbformat_minor": 2
}
